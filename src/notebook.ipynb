{
  "cells": [
    {
      "cell_type": "code",
      "execution_count": 1,
      "metadata": {
        "id": "PIcFbdP5wTnD"
      },
      "outputs": [],
      "source": [
        "import os\n",
        "import cv2\n",
        "import numpy as np\n",
        "import matplotlib.pyplot as plt\n",
        "from skimage.metrics import structural_similarity as ssim\n",
        "import csv\n",
        "from datetime import datetime\n",
        "\n",
        "def setup_directories():\n",
        "    os.makedirs('results/equalized', exist_ok=True)\n",
        "    os.makedirs('results/plots', exist_ok=True)\n",
        "    os.makedirs('results/metrics', exist_ok=True)\n",
        "\n",
        "def load_image_pairs(low_dir='/content/drive/MyDrive/data/low', high_dir='/content/drive/MyDrive/data/high'):\n",
        "    low_images = sorted([f for f in os.listdir(low_dir) if f.endswith(('.png', '.jpg', '.jpeg'))])\n",
        "    high_images = sorted([f for f in os.listdir(high_dir) if f.endswith(('.png', '.jpg', '.jpeg'))])\n",
        "\n",
        "    pairs = []\n",
        "    for low_img, high_img in zip(low_images, high_images):\n",
        "        low_path = os.path.join(low_dir, low_img)\n",
        "        high_path = os.path.join(high_dir, high_img)\n",
        "        pairs.append((low_path, high_path))\n",
        "\n",
        "    return pairs\n"
      ]
    },
    {
      "cell_type": "code",
      "execution_count": 11,
      "metadata": {
        "id": "_EHXhpIwzo0Q"
      },
      "outputs": [],
      "source": [
        "def enhance_image(image):\n",
        "    enhanced = cv2.equalizeHist(image)\n",
        "    return enhanced\n",
        "\n",
        "def save_comparison_plot(original, enhanced, ground_truth, ssim_score, filename):\n",
        "    plt.figure(figsize=(15, 5))\n",
        "\n",
        "    plt.subplot(1, 3, 1)\n",
        "    plt.imshow(original, cmap='gray')\n",
        "    plt.title('Original Image')\n",
        "    plt.axis('off')\n",
        "\n",
        "    plt.subplot(1, 3, 2)\n",
        "    plt.imshow(enhanced, cmap='gray')\n",
        "    plt.title(f'Enhanced\\nSSIM: {ssim_score:.4f}')\n",
        "    plt.axis('off')\n",
        "\n",
        "    plt.subplot(1, 3, 3)\n",
        "    plt.imshow(ground_truth, cmap='gray')\n",
        "    plt.title('Ground Truth')\n",
        "    plt.axis('off')\n",
        "\n",
        "    plot_path = os.path.join('results', 'plots', f'{filename}_comparison.png')\n",
        "    plt.savefig(plot_path, bbox_inches='tight', dpi=150)\n",
        "    plt.close()\n",
        "\n",
        "def log_metrics(filename, ssim_score, log_file='results/metrics/metrics.csv'):\n",
        "    file_exists = os.path.isfile(log_file)\n",
        "\n",
        "    with open(log_file, 'a', newline='') as csvfile:\n",
        "        fieldnames = ['timestamp', 'image_name', 'ssim']\n",
        "        writer = csv.DictWriter(csvfile, fieldnames=fieldnames)\n",
        "\n",
        "        if not file_exists:\n",
        "            writer.writeheader()\n",
        "\n",
        "        writer.writerow({\n",
        "            'timestamp': datetime.now().strftime('%Y-%m-%d %H:%M:%S'),\n",
        "            'image_name': filename,\n",
        "            'ssim': ssim_score\n",
        "        })"
      ]
    },
    {
      "cell_type": "code",
      "execution_count": 12,
      "metadata": {
        "id": "ygDXALGSzsbf"
      },
      "outputs": [],
      "source": [
        "def process_images():\n",
        "    setup_directories()\n",
        "    image_pairs = load_image_pairs()\n",
        "\n",
        "    print(f\"Found {len(image_pairs)} image pairs to process\")\n",
        "\n",
        "    for low_path, high_path in image_pairs:\n",
        "        original = cv2.imread(low_path, cv2.IMREAD_GRAYSCALE)\n",
        "        ground_truth = cv2.imread(high_path, cv2.IMREAD_GRAYSCALE)\n",
        "\n",
        "        if original is None or ground_truth is None:\n",
        "            print(f\"Warning: Could not load image pair {low_path} and {high_path}\")\n",
        "            continue\n",
        "\n",
        "        enhanced = enhance_image(original)\n",
        "        ssim_score = ssim(enhanced, ground_truth, data_range=255)\n",
        "        filename = os.path.splitext(os.path.basename(low_path))[0]\n",
        "\n",
        "        enhanced_path = os.path.join('results', 'equalized', f'{filename}_equalized.png')\n",
        "        cv2.imwrite(enhanced_path, enhanced)\n",
        "\n",
        "        save_comparison_plot(original, enhanced, ground_truth, ssim_score, filename)\n",
        "\n",
        "        log_metrics(filename, ssim_score)\n",
        "\n",
        "        print(f\"Processed {filename}: SSIM = {ssim_score:.4f}\")"
      ]
    },
    {
      "cell_type": "code",
      "execution_count": 13,
      "metadata": {
        "colab": {
          "base_uri": "https://localhost:8080/"
        },
        "id": "KN1oG5rDzxcW",
        "outputId": "a41dfe2e-2904-44c1-cd31-9e999518acf0"
      },
      "outputs": [
        {
          "name": "stdout",
          "output_type": "stream",
          "text": [
            "Drive already mounted at /content/drive; to attempt to forcibly remount, call drive.mount(\"/content/drive\", force_remount=True).\n"
          ]
        }
      ],
      "source": [
        "from google.colab import drive\n",
        "drive.mount('/content/drive')\n"
      ]
    },
    {
      "cell_type": "code",
      "execution_count": 14,
      "metadata": {
        "colab": {
          "base_uri": "https://localhost:8080/"
        },
        "id": "OE2-t0cHz0j-",
        "outputId": "42972c23-a9b6-40bb-cd8e-75fcd3e63b5c"
      },
      "outputs": [
        {
          "name": "stdout",
          "output_type": "stream",
          "text": [
            "Found 15 image pairs to process\n",
            "Processed 102: SSIM = 0.4411\n",
            "Processed 13: SSIM = 0.4025\n",
            "Processed 18: SSIM = 0.6573\n",
            "Processed 2: SSIM = 0.5927\n",
            "Processed 21: SSIM = 0.5915\n",
            "Processed 39: SSIM = 0.5474\n",
            "Processed 43: SSIM = 0.6929\n",
            "Processed 48: SSIM = 0.5581\n",
            "Processed 5: SSIM = 0.6478\n",
            "Processed 52: SSIM = 0.7656\n",
            "Processed 54: SSIM = 0.7464\n",
            "Processed 57: SSIM = 0.6309\n",
            "Processed 60: SSIM = 0.5884\n",
            "Processed 75: SSIM = 0.5603\n",
            "Processed 83: SSIM = 0.5240\n"
          ]
        }
      ],
      "source": [
        "process_images()\n"
      ]
    }
  ],
  "metadata": {
    "colab": {
      "provenance": []
    },
    "kernelspec": {
      "display_name": "venv",
      "language": "python",
      "name": "python3"
    },
    "language_info": {
      "codemirror_mode": {
        "name": "ipython",
        "version": 3
      },
      "file_extension": ".py",
      "mimetype": "text/x-python",
      "name": "python",
      "nbconvert_exporter": "python",
      "pygments_lexer": "ipython3",
      "version": "3.13.1"
    }
  },
  "nbformat": 4,
  "nbformat_minor": 0
}
